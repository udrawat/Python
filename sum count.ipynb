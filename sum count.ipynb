#question to count sum till sum in single digit number
n=''
d=''
sum1=0
sum2=0
sum3=0
n=input("Enter the numbers ")
for i in range(0,len(n)):
    k=int(n[i])
    sum1+=k
p=str(sum1)
print(sum1)
for z in range(0,len(p)):
    sum2+=int(p[z])
d=str(sum2)
print(sum2)
for l in range(0,len(d)):
    if(len(d)==1):
        sum3=sum2
        print("if")
        break
    else:
        sum3+=int(d[c])
print(sum3)
